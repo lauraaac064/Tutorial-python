{
 "cells": [
  {
   "cell_type": "markdown",
   "id": "c6b7c358",
   "metadata": {},
   "source": [
    "# Tutorial de python"
   ]
  },
  {
   "cell_type": "markdown",
   "id": "db7f3012",
   "metadata": {},
   "source": [
    "Este tutorial es una guía introductoria a Python que explica de forma clara y práctica los conceptos básicos del lenguaje, incluyendo la definición y uso de variables, los principales tipos de datos (numéricos, cadenas, booleanos), las operaciones aritméticas y lógicas, así como la conversión entre distintos tipos de datos. Está orientado a principiantes y busca familiarizar al lector con la sintaxis fundamental y las estructuras elementales de programación en Python."
   ]
  },
  {
   "cell_type": "markdown",
   "id": "6cd49b04",
   "metadata": {},
   "source": [
    "# 1. Variables y Tipos de Datos Básicos"
   ]
  },
  {
   "cell_type": "code",
   "execution_count": null,
   "id": "9d4c23a2",
   "metadata": {},
   "outputs": [
    {
     "name": "stdout",
     "output_type": "stream",
     "text": [
      "<class 'int'>\n",
      "<class 'float'>\n"
     ]
    }
   ],
   "source": [
    "#Variables Numéricas\n",
    "\n",
    "# Enteros (int)\n",
    "edad = 19\n",
    "año_nacimiento = 2006\n",
    "poblacion_mundial = 5_000_000_000  \n",
    "\n",
    "# Decimales (float)\n",
    "altura = 1.75\n",
    "temperatura = -5.5\n",
    "pi = 3.14159\n",
    "\n",
    "# Verificamos tipos\n",
    "print(type(edad))   \n",
    "print(type(altura))   "
   ]
  },
  {
   "cell_type": "code",
   "execution_count": 2,
   "id": "e0058688",
   "metadata": {},
   "outputs": [
    {
     "name": "stdout",
     "output_type": "stream",
     "text": [
      "Laura Cortés\n",
      "Hola, me llamo Laura Cortés y vivo en Medellin\n"
     ]
    }
   ],
   "source": [
    "# Textos (Strings)\n",
    "\n",
    "nombre = \"Laura\"\n",
    "apellido = \"Cortés\"\n",
    "ciudad = 'Medellin'\n",
    "año = \"2025\"\n",
    "\n",
    "# Concatenación\n",
    "nombre_completo = nombre + \" \" + apellido\n",
    "print(nombre_completo)  \n",
    "\n",
    "# f-strings (formato moderno)\n",
    "mensaje = f\"Hola, me llamo {nombre} {apellido} y vivo en {ciudad}\"\n",
    "print(mensaje)"
   ]
  },
  {
   "cell_type": "code",
   "execution_count": null,
   "id": "ed59c5dc",
   "metadata": {},
   "outputs": [
    {
     "name": "stdout",
     "output_type": "stream",
     "text": [
      "<class 'bool'>\n"
     ]
    }
   ],
   "source": [
    "# Booleanos\n",
    "\n",
    "es_mayor = True\n",
    "tiene_coche = False\n",
    "puede_votar = edad >= 18 \n",
    "\n",
    "print(type(es_mayor))  "
   ]
  },
  {
   "cell_type": "markdown",
   "id": "4180db99",
   "metadata": {},
   "source": [
    "# 2. Operaciones Básicas"
   ]
  },
  {
   "cell_type": "code",
   "execution_count": null,
   "id": "eb0aa4a9",
   "metadata": {},
   "outputs": [
    {
     "name": "stdout",
     "output_type": "stream",
     "text": [
      "15\n",
      "12\n",
      "42\n",
      "5.0\n",
      "8\n",
      "1\n",
      "13.7\n"
     ]
    }
   ],
   "source": [
    "# Operaciones Numéricas\n",
    "\n",
    "# Operaciones aritméticas\n",
    "suma = 10 + 5   \n",
    "print(suma)   \n",
    "\n",
    "resta = 20 - 8 \n",
    "print(resta) \n",
    "\n",
    "multiplicacion = 6 * 7  \n",
    "print(multiplicacion) \n",
    "\n",
    "division = 15 / 3  \n",
    "print(division) \n",
    "\n",
    "potencia = 2 ** 3 \n",
    "print(potencia)     \n",
    "  \n",
    "modulo = 10 % 3     \n",
    "print(modulo)     \n",
    "\n",
    "# Operaciones con decimales\n",
    "resultado = 10.5 + 3.2 \n",
    "print(resultado)\n"
   ]
  },
  {
   "cell_type": "code",
   "execution_count": 14,
   "id": "8659a112",
   "metadata": {},
   "outputs": [
    {
     "name": "stdout",
     "output_type": "stream",
     "text": [
      "True\n",
      "True\n",
      "True\n",
      "True\n",
      "True\n"
     ]
    }
   ],
   "source": [
    "# Operaciones Lógicas\n",
    "\n",
    "# Comparaciones\n",
    "print(5 > 3)    \n",
    "print(10 <= 10) \n",
    "print(7 == 7)   \n",
    "print(4 != 5)   \n",
    "\n",
    "# Operadores lógicos\n",
    "tiene_entrada = True\n",
    "es_mayor_edad = edad >= 18\n",
    "puede_entrar = tiene_entrada and es_mayor_edad\n",
    "print(puede_entrar)"
   ]
  },
  {
   "cell_type": "markdown",
   "id": "377343a7",
   "metadata": {},
   "source": [
    "# 3. Conversión entre Tipos"
   ]
  },
  {
   "cell_type": "code",
   "execution_count": 20,
   "id": "da78803b",
   "metadata": {},
   "outputs": [
    {
     "name": "stdout",
     "output_type": "stream",
     "text": [
      "36.2879\n"
     ]
    }
   ],
   "source": [
    "# De texto a número\n",
    "numero_texto = \"100\"\n",
    "numero_entero = int(numero_texto)\n",
    "numero_decimal = float(\"3.14\")\n",
    "\n",
    "# De número a texto\n",
    "texto_edad = str(25)\n",
    "texto_precio = str(19.99)\n",
    "\n",
    "# De booleano a número\n",
    "valor_verdadero = int(True)    \n",
    "valor_falso = int(False)       \n",
    "\n",
    "# Ejemplo práctico\n",
    "precio_producto = \"29.99\"\n",
    "precio_numerico = float(precio_producto)\n",
    "precio_con_iva = precio_numerico * 1.21\n",
    "print(precio_con_iva)"
   ]
  },
  {
   "cell_type": "markdown",
   "id": "8f9c0965",
   "metadata": {},
   "source": [
    "# 4. Estructuras de Datos"
   ]
  },
  {
   "cell_type": "code",
   "execution_count": 23,
   "id": "5327ea9f",
   "metadata": {},
   "outputs": [
    {
     "name": "stdout",
     "output_type": "stream",
     "text": [
      "['manzana', 'naranja', 'uva']\n"
     ]
    }
   ],
   "source": [
    "# Listas\n",
    "\n",
    "# Crear listas\n",
    "frutas = [\"manzana\", \"plátano\", \"naranja\"]\n",
    "numeros = [1, 2, 3, 4, 5]\n",
    "mixta = [\"texto\", 100, True, 3.14]\n",
    "\n",
    "# Operaciones con listas\n",
    "frutas.append(\"uva\") # agregar un elemento          \n",
    "frutas.remove(\"plátano\")  # remover un elemento   \n",
    "longitud = len(frutas)         \n",
    "primera_fruta = frutas[0]     \n",
    "\n",
    "print(frutas)  "
   ]
  },
  {
   "cell_type": "code",
   "execution_count": null,
   "id": "be21c1ed",
   "metadata": {},
   "outputs": [
    {
     "name": "stdout",
     "output_type": "stream",
     "text": [
      "Carlos\n",
      "30\n",
      "nombre: Carlos\n",
      "edad: 31\n",
      "ciudad: Cartagena\n",
      "casado: False\n",
      "profesion: Ingeniero\n"
     ]
    }
   ],
   "source": [
    "# Diccionarios\n",
    "\n",
    "# Crear diccionarios\n",
    "persona = {\"nombre\": \"Carlos\",\n",
    "    \"edad\": 30,\n",
    "    \"ciudad\": \"Cartagena\",\n",
    "    \"casado\": False}\n",
    "\n",
    "# Acceder a valores\n",
    "print(persona[\"nombre\"])        \n",
    "print(persona.get(\"edad\"))      \n",
    "\n",
    "# Modificar valores\n",
    "persona[\"edad\"] = 31\n",
    "persona[\"profesion\"] = \"Ingeniero\"  \n",
    "\n",
    "# Recorrer diccionario\n",
    "for clave, valor in persona.items():\n",
    "    print(f\"{clave}: {valor}\")\n"
   ]
  },
  {
   "cell_type": "markdown",
   "id": "c5fde4d8",
   "metadata": {},
   "source": [
    "# 5. Control de Flujo"
   ]
  },
  {
   "cell_type": "code",
   "execution_count": 30,
   "id": "b4b7965e",
   "metadata": {},
   "outputs": [
    {
     "name": "stdout",
     "output_type": "stream",
     "text": [
      "Puedes conducir\n",
      "Aprobado\n"
     ]
    }
   ],
   "source": [
    "# Condicionales (if, elif, else)\n",
    "\n",
    "edad = 20\n",
    "tiene_licencia = True\n",
    "\n",
    "if edad >= 18 and tiene_licencia:\n",
    "    print(\"Puedes conducir\")\n",
    "elif edad >= 18 and not tiene_licencia:\n",
    "    print(\"Necesitas obtener tu licencia\")\n",
    "else:\n",
    "    print(\"No puedes conducir\")\n",
    "\n",
    "# Condicionales anidados\n",
    "nota = 85\n",
    "if nota >= 90:\n",
    "    print(\"Excelente\")\n",
    "elif nota >= 70:\n",
    "    print(\"Aprobado\")\n",
    "else:\n",
    "    print(\"Necesitas mejorar\")"
   ]
  },
  {
   "cell_type": "code",
   "execution_count": 31,
   "id": "325c4a8e",
   "metadata": {},
   "outputs": [
    {
     "name": "stdout",
     "output_type": "stream",
     "text": [
      "Hola Ana!\n",
      "Hola Luis!\n",
      "Hola Sara!\n",
      "Hola Carlos!\n",
      "Número: 0\n",
      "Número: 1\n",
      "Número: 2\n",
      "Número: 3\n",
      "Número: 4\n",
      "Contador: 0\n",
      "Contador: 1\n",
      "Contador: 2\n",
      "Contador: 3\n",
      "Contador: 4\n"
     ]
    }
   ],
   "source": [
    "# Bucles (Loops)\n",
    "\n",
    "# Bucle for\n",
    "amigos = [\"Ana\", \"Luis\", \"Sara\", \"Carlos\"]\n",
    "\n",
    "for amigo in amigos:\n",
    "    print(f\"Hola {amigo}!\")\n",
    "\n",
    "# Bucle for con range\n",
    "for i in range(5):\n",
    "    print(f\"Número: {i}\")\n",
    "\n",
    "# Bucle while\n",
    "contador = 0\n",
    "while contador < 5:\n",
    "    print(f\"Contador: {contador}\")\n",
    "    contador += 1"
   ]
  },
  {
   "cell_type": "markdown",
   "id": "d9f30037",
   "metadata": {},
   "source": [
    "# 6. Funciones"
   ]
  },
  {
   "cell_type": "code",
   "execution_count": 37,
   "id": "1699a990",
   "metadata": {},
   "outputs": [
    {
     "name": "stdout",
     "output_type": "stream",
     "text": [
      "Hola Laura!\n",
      "El área es: 15\n",
      "Pablo tiene 25 años y vive en Bogotá\n",
      "Laura tiene 30 años y vive en Roma\n"
     ]
    }
   ],
   "source": [
    "# Función básica\n",
    "def saludar(nombre):\n",
    "    return f\"Hola {nombre}!\"\n",
    "\n",
    "mensaje = saludar(\"Laura\")\n",
    "print(mensaje)  \n",
    "\n",
    "# Función con múltiples parámetros\n",
    "def calcular_area_rectangulo(largo, ancho):\n",
    "    area = largo * ancho\n",
    "    return area\n",
    "\n",
    "area = calcular_area_rectangulo(5, 3)\n",
    "print(f\"El área es: {area}\")  \n",
    "\n",
    "# Función con valor por defecto\n",
    "def presentar_persona(nombre, edad, ciudad=\"Bogotá\"):\n",
    "    return f\"{nombre} tiene {edad} años y vive en {ciudad}\"\n",
    "\n",
    "print(presentar_persona(\"Pablo\", 25))\n",
    "print(presentar_persona(\"Laura\", 30, \"Roma\"))"
   ]
  },
  {
   "cell_type": "markdown",
   "id": "27f84c06",
   "metadata": {},
   "source": [
    "# 7. List Comprehension"
   ]
  },
  {
   "cell_type": "code",
   "execution_count": null,
   "id": "1deb3b1e",
   "metadata": {},
   "outputs": [
    {
     "name": "stdout",
     "output_type": "stream",
     "text": [
      "[0, 2, 4, 6, 8]\n",
      "['ANA', 'LUIS', 'SOFIA']\n",
      "[200, 300]\n"
     ]
    }
   ],
   "source": [
    "# Crear lista de números pares\n",
    "numeros_pares = [x for x in range(10) if x % 2 == 0]\n",
    "print(numeros_pares)  \n",
    "\n",
    "# Convertir lista a mayúsculas\n",
    "nombres = [\"ana\", \"luis\", \"sofia\"]\n",
    "nombres_mayusculas = [nombre.upper() for nombre in nombres]\n",
    "print(nombres_mayusculas) \n",
    "\n",
    "# Filtrar elementos\n",
    "precios = [100, 50, 200, 75, 300]\n",
    "precios_altos = [precio for precio in precios if precio > 100]\n",
    "print(precios_altos)  "
   ]
  },
  {
   "cell_type": "markdown",
   "id": "a45131ff",
   "metadata": {},
   "source": [
    "# 8. Manejo de Errores Básico"
   ]
  },
  {
   "cell_type": "code",
   "execution_count": 40,
   "id": "384051f9",
   "metadata": {},
   "outputs": [
    {
     "name": "stdout",
     "output_type": "stream",
     "text": [
      "Error: No se pudo convertir a número\n",
      "Error: No se puede dividir por cero\n"
     ]
    }
   ],
   "source": [
    "# Try-except para manejar errores\n",
    "try:\n",
    "    numero = int(\"no_es_un_numero\")\n",
    "    print(numero)\n",
    "except ValueError:\n",
    "    print(\"Error: No se pudo convertir a número\")\n",
    "\n",
    "# Manejo múltiple de errores\n",
    "try:\n",
    "    resultado = 10 / 0\n",
    "except ZeroDivisionError:\n",
    "    print(\"Error: No se puede dividir por cero\")\n",
    "except Exception as e:\n",
    "    print(f\"Ocurrió un error: {e}\")"
   ]
  },
  {
   "cell_type": "markdown",
   "id": "0aa6f942",
   "metadata": {},
   "source": [
    "# 9. Crecación de graficos "
   ]
  },
  {
   "cell_type": "code",
   "execution_count": null,
   "id": "575df2fb",
   "metadata": {},
   "outputs": [],
   "source": [
    "!pip install matplotlib seaborn\n",
    "!pip install numpy pandas\n",
    "!pip install seaborn"
   ]
  },
  {
   "cell_type": "code",
   "execution_count": null,
   "id": "5ce2b6dd",
   "metadata": {},
   "outputs": [],
   "source": [
    "# Importar bibliotecas\n",
    "\n",
    "import matplotlib.pyplot as plt\n",
    "import seaborn as sns\n",
    "import pandas as pd\n",
    "import numpy as np\n",
    "\n",
    "# Configurar estilo para mejores gráficos\n",
    "plt.style.use('seaborn-v0_8')\n",
    "sns.set_palette(\"husl\")"
   ]
  },
  {
   "cell_type": "code",
   "execution_count": 49,
   "id": "f4b1dee9",
   "metadata": {},
   "outputs": [
    {
     "name": "stdout",
     "output_type": "stream",
     "text": [
      "       Producto  2023  2024\n",
      "0       Laptops  1500  1800\n",
      "1       Tablets   800   950\n",
      "2   Smartphones  3000  3500\n",
      "3  Smartwatches   600   850\n"
     ]
    }
   ],
   "source": [
    "# Datos para nuestros gráficos\n",
    "productos = [\"Laptops\", \"Tablets\", \"Smartphones\", \"Smartwatches\"]\n",
    "ventas_2023 = [1500, 800, 3000, 600]\n",
    "ventas_2024 = [1800, 950, 3500, 850]\n",
    "colores = ['#FF6B6B', '#4ECDC4', '#45B7D1', '#96CEB4']\n",
    "\n",
    "# Crear DataFrame (estructura de datos tabular)\n",
    "datos_ventas = pd.DataFrame({\n",
    "    'Producto': productos,\n",
    "    '2023': ventas_2023,\n",
    "    '2024': ventas_2024\n",
    "})\n",
    "\n",
    "print(datos_ventas)"
   ]
  },
  {
   "cell_type": "code",
   "execution_count": 50,
   "id": "d5bca2e8",
   "metadata": {},
   "outputs": [
    {
     "name": "stdout",
     "output_type": "stream",
     "text": [
      "Crecimiento: 20.3%\n"
     ]
    }
   ],
   "source": [
    "# Funciones para Análisis de Datos\n",
    "def analizar_ventas(datos):\n",
    "    \"\"\"Analiza datos de ventas y retorna estadísticas\"\"\"\n",
    "    total_2023 = sum(datos['2023'])\n",
    "    total_2024 = sum(datos['2024'])\n",
    "    crecimiento = ((total_2024 - total_2023) / total_2023) * 100\n",
    "    \n",
    "    return {'total_2023': total_2023,\n",
    "        'total_2024': total_2024,\n",
    "        'crecimiento_porcentaje': crecimiento}\n",
    "\n",
    "# Usar la función\n",
    "estadisticas = analizar_ventas(datos_ventas)\n",
    "print(f\"Crecimiento: {estadisticas['crecimiento_porcentaje']:.1f}%\")"
   ]
  },
  {
   "cell_type": "markdown",
   "id": "1520e6b4",
   "metadata": {},
   "source": [
    "## Gráfico de Barras "
   ]
  },
  {
   "cell_type": "code",
   "execution_count": null,
   "id": "b2c69d49",
   "metadata": {},
   "outputs": [
    {
     "data": {
      "image/png": "[encoded data removed]",
      "text/plain": [
       "<Figure size 1000x600 with 1 Axes>"
      ]
     },
     "metadata": {},
     "output_type": "display_data"
    }
   ],
   "source": [
    "# Configurar el gráfico\n",
    "plt.figure(figsize=(10, 6))\n",
    "\n",
    "# Crear barras\n",
    "barras = plt.bar(productos, ventas_2024, color=colores, alpha=0.8)\n",
    "\n",
    "# Personalizar\n",
    "plt.title('Ventas por Producto - 2024', fontsize=16, fontweight='bold')\n",
    "plt.xlabel('Productos', fontsize=12)\n",
    "plt.ylabel('Ventas (unidades)', fontsize=12)\n",
    "plt.xticks(rotation=45)\n",
    "\n",
    "# Agregar valores en las barras\n",
    "for barra in barras:\n",
    "    altura = barra.get_height()\n",
    "    plt.text(barra.get_x() + barra.get_width()/2., altura + 50,\n",
    "             f'{int(altura)}', ha='center', va='bottom')\n",
    "\n",
    "plt.tight_layout()\n",
    "plt.show()"
   ]
  },
  {
   "cell_type": "markdown",
   "id": "c7e8199b",
   "metadata": {},
   "source": [
    "## Grafico de lineas"
   ]
  },
  {
   "cell_type": "code",
   "execution_count": null,
   "id": "03dc497e",
   "metadata": {},
   "outputs": [
    {
     "data": {
      "image/png": "[encoded data removed]",
      "text/plain": [
       "<Figure size 1200x600 with 1 Axes>"
      ]
     },
     "metadata": {},
     "output_type": "display_data"
    }
   ],
   "source": [
    "# Datos de ventas mensuales\n",
    "meses = ['Ene', 'Feb', 'Mar', 'Abr', 'May', 'Jun']\n",
    "ventas_laptops = [120, 135, 110, 160, 190, 210]\n",
    "ventas_smartphones = [240, 260, 280, 300, 320, 350]\n",
    "\n",
    "plt.figure(figsize=(12, 6))\n",
    "\n",
    "plt.plot(meses, ventas_laptops, marker='o', linewidth=2.5, \n",
    "         label='Laptops', color='#FF6B6B')\n",
    "plt.plot(meses, ventas_smartphones, marker='s', linewidth=2.5, \n",
    "         label='Smartphones', color='#4ECDC4')\n",
    "\n",
    "plt.title('Evolución de Ventas Mensuales', fontsize=16, fontweight='bold')\n",
    "plt.xlabel('Meses')\n",
    "plt.ylabel('Ventas (unidades)')\n",
    "plt.legend()\n",
    "plt.grid(True, alpha=0.3)\n",
    "\n",
    "plt.tight_layout()\n",
    "plt.show()"
   ]
  }
 ],
 "metadata": {
  "kernelspec": {
   "display_name": "Python 3",
   "language": "python",
   "name": "python3"
  },
  "language_info": {
   "codemirror_mode": {
    "name": "ipython",
    "version": 3
   },
   "file_extension": ".py",
   "mimetype": "text/x-python",
   "name": "python",
   "nbconvert_exporter": "python",
   "pygments_lexer": "ipython3",
   "version": "3.13.5"
  }
 },
 "nbformat": 4,
 "nbformat_minor": 5
}
